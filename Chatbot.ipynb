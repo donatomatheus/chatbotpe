{
 "cells": [
  {
   "cell_type": "code",
   "execution_count": 26,
   "metadata": {},
   "outputs": [
    {
     "ename": "KeyboardInterrupt",
     "evalue": "Interrupted by user",
     "output_type": "error",
     "traceback": [
      "\u001b[1;31m---------------------------------------------------------------------------\u001b[0m",
      "\u001b[1;31mKeyboardInterrupt\u001b[0m                         Traceback (most recent call last)",
      "\u001b[1;32m<ipython-input-26-ca4a978c88d7>\u001b[0m in \u001b[0;36m<module>\u001b[1;34m\u001b[0m\n\u001b[0;32m     46\u001b[0m         \u001b[0mopcoes\u001b[0m \u001b[1;33m=\u001b[0m \u001b[1;33m{\u001b[0m\u001b[1;36m1\u001b[0m\u001b[1;33m:\u001b[0m\u001b[0marvore\u001b[0m\u001b[1;33m.\u001b[0m\u001b[0manswerTrue\u001b[0m\u001b[1;33m,\u001b[0m\u001b[1;36m2\u001b[0m\u001b[1;33m:\u001b[0m\u001b[0marvore\u001b[0m\u001b[1;33m.\u001b[0m\u001b[0manswerFalse\u001b[0m\u001b[1;33m}\u001b[0m\u001b[1;33m\u001b[0m\u001b[1;33m\u001b[0m\u001b[0m\n\u001b[0;32m     47\u001b[0m         \u001b[0mprint\u001b[0m\u001b[1;33m(\u001b[0m\u001b[1;34m\"\\nEscolha uma das opções abaixo:\"\u001b[0m\u001b[1;33m+\u001b[0m\u001b[1;34m\"\\n0 para sair\"\u001b[0m\u001b[1;33m+\u001b[0m\u001b[1;34m\"\\n1 para \"\u001b[0m\u001b[1;33m+\u001b[0m\u001b[0mopcoes\u001b[0m\u001b[1;33m[\u001b[0m\u001b[1;36m1\u001b[0m\u001b[1;33m]\u001b[0m\u001b[1;33m+\u001b[0m\u001b[1;34m\"\\n2 para \"\u001b[0m\u001b[1;33m+\u001b[0m\u001b[0mopcoes\u001b[0m\u001b[1;33m[\u001b[0m\u001b[1;36m2\u001b[0m\u001b[1;33m]\u001b[0m\u001b[1;33m+\u001b[0m\u001b[1;34m\"\\n\"\u001b[0m\u001b[1;33m)\u001b[0m\u001b[1;33m\u001b[0m\u001b[1;33m\u001b[0m\u001b[0m\n\u001b[1;32m---> 48\u001b[1;33m         \u001b[0mresponse\u001b[0m \u001b[1;33m=\u001b[0m \u001b[0minput\u001b[0m\u001b[1;33m(\u001b[0m\u001b[0marvore\u001b[0m\u001b[1;33m.\u001b[0m\u001b[0mask_question\u001b[0m\u001b[1;33m(\u001b[0m\u001b[1;33m)\u001b[0m\u001b[1;33m)\u001b[0m\u001b[1;33m\u001b[0m\u001b[1;33m\u001b[0m\u001b[0m\n\u001b[0m\u001b[0;32m     49\u001b[0m         \u001b[1;32mwhile\u001b[0m \u001b[1;32mnot\u001b[0m \u001b[0mresponse\u001b[0m\u001b[1;33m.\u001b[0m\u001b[0misnumeric\u001b[0m\u001b[1;33m(\u001b[0m\u001b[1;33m)\u001b[0m\u001b[1;33m:\u001b[0m\u001b[1;33m\u001b[0m\u001b[1;33m\u001b[0m\u001b[0m\n\u001b[0;32m     50\u001b[0m             \u001b[1;32mif\u001b[0m \u001b[0mcount_erros\u001b[0m \u001b[1;33m==\u001b[0m \u001b[1;36m2\u001b[0m\u001b[1;33m:\u001b[0m\u001b[1;33m\u001b[0m\u001b[1;33m\u001b[0m\u001b[0m\n",
      "\u001b[1;32mC:\\ProgramData\\Anaconda3\\lib\\site-packages\\ipykernel\\kernelbase.py\u001b[0m in \u001b[0;36mraw_input\u001b[1;34m(self, prompt)\u001b[0m\n\u001b[0;32m    858\u001b[0m                 \u001b[1;34m\"raw_input was called, but this frontend does not support input requests.\"\u001b[0m\u001b[1;33m\u001b[0m\u001b[1;33m\u001b[0m\u001b[0m\n\u001b[0;32m    859\u001b[0m             )\n\u001b[1;32m--> 860\u001b[1;33m         return self._input_request(str(prompt),\n\u001b[0m\u001b[0;32m    861\u001b[0m             \u001b[0mself\u001b[0m\u001b[1;33m.\u001b[0m\u001b[0m_parent_ident\u001b[0m\u001b[1;33m,\u001b[0m\u001b[1;33m\u001b[0m\u001b[1;33m\u001b[0m\u001b[0m\n\u001b[0;32m    862\u001b[0m             \u001b[0mself\u001b[0m\u001b[1;33m.\u001b[0m\u001b[0m_parent_header\u001b[0m\u001b[1;33m,\u001b[0m\u001b[1;33m\u001b[0m\u001b[1;33m\u001b[0m\u001b[0m\n",
      "\u001b[1;32mC:\\ProgramData\\Anaconda3\\lib\\site-packages\\ipykernel\\kernelbase.py\u001b[0m in \u001b[0;36m_input_request\u001b[1;34m(self, prompt, ident, parent, password)\u001b[0m\n\u001b[0;32m    902\u001b[0m             \u001b[1;32mexcept\u001b[0m \u001b[0mKeyboardInterrupt\u001b[0m\u001b[1;33m:\u001b[0m\u001b[1;33m\u001b[0m\u001b[1;33m\u001b[0m\u001b[0m\n\u001b[0;32m    903\u001b[0m                 \u001b[1;31m# re-raise KeyboardInterrupt, to truncate traceback\u001b[0m\u001b[1;33m\u001b[0m\u001b[1;33m\u001b[0m\u001b[1;33m\u001b[0m\u001b[0m\n\u001b[1;32m--> 904\u001b[1;33m                 \u001b[1;32mraise\u001b[0m \u001b[0mKeyboardInterrupt\u001b[0m\u001b[1;33m(\u001b[0m\u001b[1;34m\"Interrupted by user\"\u001b[0m\u001b[1;33m)\u001b[0m \u001b[1;32mfrom\u001b[0m \u001b[1;32mNone\u001b[0m\u001b[1;33m\u001b[0m\u001b[1;33m\u001b[0m\u001b[0m\n\u001b[0m\u001b[0;32m    905\u001b[0m             \u001b[1;32mexcept\u001b[0m \u001b[0mException\u001b[0m \u001b[1;32mas\u001b[0m \u001b[0me\u001b[0m\u001b[1;33m:\u001b[0m\u001b[1;33m\u001b[0m\u001b[1;33m\u001b[0m\u001b[0m\n\u001b[0;32m    906\u001b[0m                 \u001b[0mself\u001b[0m\u001b[1;33m.\u001b[0m\u001b[0mlog\u001b[0m\u001b[1;33m.\u001b[0m\u001b[0mwarning\u001b[0m\u001b[1;33m(\u001b[0m\u001b[1;34m\"Invalid Message:\"\u001b[0m\u001b[1;33m,\u001b[0m \u001b[0mexc_info\u001b[0m\u001b[1;33m=\u001b[0m\u001b[1;32mTrue\u001b[0m\u001b[1;33m)\u001b[0m\u001b[1;33m\u001b[0m\u001b[1;33m\u001b[0m\u001b[0m\n",
      "\u001b[1;31mKeyboardInterrupt\u001b[0m: Interrupted by user"
     ]
    }
   ],
   "source": [
    "import pandas as pd\n",
    "import os\n",
    "import sys\n",
    "\n",
    "class Tree():\n",
    "    def __init__(self):\n",
    "        pass\n",
    "\n",
    "    def ask_question(self):\n",
    "        return self.question\n",
    "\n",
    "    def check_answer(self,answer):\n",
    "        if answer == self.answerTrue:\n",
    "            return self.leftNode\n",
    "        elif answer == self.answerFalse:\n",
    "            return self.rightNode\n",
    "        else:\n",
    "            return False\n",
    "\n",
    "texto = pd.read_csv(\"testearvore.csv\",sep=';',index_col=\"ID\")\n",
    "\n",
    "def rec_build_tree(linha):\n",
    "    row = texto.loc[linha]\n",
    "    if row[\"Pergunta\"] == \"Folha\":\n",
    "        return row[\"A\"]\n",
    "    node = Tree() \n",
    "    node.leftNode = rec_build_tree(int(row[\"Nó A\"]))    \n",
    "    node.rightNode = rec_build_tree(int(row[\"Nó B\"]))\n",
    "    node.question = row[\"Pergunta\"]\n",
    "    node.answerTrue = row[\"A\"]\n",
    "    node.answerFalse = row[\"B\"]\n",
    "    return node\n",
    "\n",
    "def is_obj(obj):\n",
    "    return False if type(obj).__name__ == \"str\" else True\n",
    "\n",
    "counter_tickets = 0\n",
    "while True:\n",
    "    arvore = rec_build_tree(1)\n",
    "    count_erros=0\n",
    "    while True:\n",
    "        if count_erros == 2:\n",
    "            print(\"ERROS SUCESSIVOS\\nVERIFIQUE AS OPÇÕES ANTES DE TENTAR NOVAMENTE\\n\")\n",
    "            print(\"\\nMuitas informações! :/ \\nPor favor me reinicie.\")\n",
    "            break\n",
    "        opcoes = {1:arvore.answerTrue,2:arvore.answerFalse}\n",
    "        print(\"\\nEscolha uma das opções abaixo:\"+\"\\n0 para sair\"+\"\\n1 para \"+opcoes[1]+\"\\n2 para \"+opcoes[2]+\"\\n\")\n",
    "        response = input(arvore.ask_question())\n",
    "        while not response.isnumeric():\n",
    "            if count_erros == 2:\n",
    "                print(\"\\nMuitas informações! :/ \\nPor favor me reinicie.\")\n",
    "                sys.exit()\n",
    "            print(\"\\nMe desculpe, não conheço essa opção, vamos tentar novamente? :)\\n\")\n",
    "            print(\"Escolha uma das opções abaixo:\"+\"\\n0 para sair\"+\"\\n1 para \"+opcoes[1]+\"\\n2 para \"+opcoes[2])\n",
    "            response = input(arvore.ask_question())\n",
    "            count_erros+=1\n",
    "            \n",
    "        if int(response) == 0:\n",
    "            print(\"\\nFim.\\n\")\n",
    "            sys.exit()\n",
    "            \n",
    "        question = opcoes[int(response)]\n",
    "        answer = arvore.check_answer(question)\n",
    "        if answer == False:\n",
    "            print(\"\\nMe desculpe, não conheço essa opção, vamos tentar novamente? :)\")\n",
    "            count_erros+=1\n",
    "        elif not is_obj(answer):\n",
    "            break\n",
    "        else:\n",
    "            arvore = answer \n",
    "            \n",
    "    print(answer)\n",
    "                \n",
    "    print(\"-------------------------------------\")\n",
    "    print(\"-------------------------------------\")\n",
    "    print(\"-------------------------------------\")"
   ]
  },
  {
   "cell_type": "code",
   "execution_count": null,
   "metadata": {},
   "outputs": [],
   "source": []
  },
  {
   "cell_type": "code",
   "execution_count": null,
   "metadata": {},
   "outputs": [],
   "source": []
  }
 ],
 "metadata": {
  "kernelspec": {
   "display_name": "Python 3",
   "language": "python",
   "name": "python3"
  },
  "language_info": {
   "codemirror_mode": {
    "name": "ipython",
    "version": 3
   },
   "file_extension": ".py",
   "mimetype": "text/x-python",
   "name": "python",
   "nbconvert_exporter": "python",
   "pygments_lexer": "ipython3",
   "version": "3.8.3"
  }
 },
 "nbformat": 4,
 "nbformat_minor": 4
}
