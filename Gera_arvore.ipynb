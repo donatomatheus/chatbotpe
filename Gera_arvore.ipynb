{
 "cells": [
  {
   "cell_type": "markdown",
   "metadata": {},
   "source": [
    "Projeto da Disciplina --- Arvore"
   ]
  },
  {
   "cell_type": "code",
   "execution_count": 6,
   "metadata": {},
   "outputs": [
    {
     "name": "stdout",
     "output_type": "stream",
     "text": [
      "Requirement already satisfied: graphviz in c:\\programdata\\anaconda3\\lib\\site-packages (0.14.2)\n"
     ]
    }
   ],
   "source": [
    "!pip install graphviz"
   ]
  },
  {
   "cell_type": "code",
   "execution_count": 31,
   "metadata": {},
   "outputs": [],
   "source": [
    "#Importando as bibliotoceas\n",
    "import pandas as pd\n",
    "from numpy import *\n",
    "from sklearn import tree\n",
    "import graphviz"
   ]
  },
  {
   "cell_type": "code",
   "execution_count": 32,
   "metadata": {},
   "outputs": [],
   "source": [
    "def criando_arvore(X,Y):\n",
    "    clf = tree.DecisionTreeClassifier(min_samples_leaf=10, min_impurity_decrease=0.001, min_samples_split=20,max_depth=15)\n",
    "    clf = clf.fit(X, Y)\n",
    "    with open('trabalho.dot','w') as arquivo:\n",
    "        arquivo = tree.export_graphviz(clf,\n",
    "                             out_file=arquivo,\n",
    "                             max_depth=15,\n",
    "                             impurity= True,\n",
    "                             feature_names = list(planilha.drop(['classe'], axis=1)),\n",
    "                             class_names = [\"0\", \"1\", \"2\"],\n",
    "                             rounded = True,\n",
    "                             filled = True)\n",
    "       "
   ]
  },
  {
   "cell_type": "code",
   "execution_count": 33,
   "metadata": {},
   "outputs": [],
   "source": [
    "planilha=pd.read_csv('tentativa.csv')\n",
    "x_planilha=planilha[['bedrooms','banheiros','pisos','waterfront','condition','posicao','view','grade']]\n",
    "y_planilha=planilha['classe']"
   ]
  },
  {
   "cell_type": "code",
   "execution_count": 34,
   "metadata": {},
   "outputs": [],
   "source": [
    "criando_arvore(x_planilha,y_planilha)"
   ]
  },
  {
   "cell_type": "code",
   "execution_count": null,
   "metadata": {},
   "outputs": [],
   "source": []
  }
 ],
 "metadata": {
  "kernelspec": {
   "display_name": "Python 3",
   "language": "python",
   "name": "python3"
  },
  "language_info": {
   "codemirror_mode": {
    "name": "ipython",
    "version": 3
   },
   "file_extension": ".py",
   "mimetype": "text/x-python",
   "name": "python",
   "nbconvert_exporter": "python",
   "pygments_lexer": "ipython3",
   "version": "3.8.3"
  }
 },
 "nbformat": 4,
 "nbformat_minor": 4
}
